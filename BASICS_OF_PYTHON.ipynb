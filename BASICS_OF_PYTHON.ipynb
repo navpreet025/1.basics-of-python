{
  "nbformat": 4,
  "nbformat_minor": 0,
  "metadata": {
    "colab": {
      "provenance": [],
      "authorship_tag": "ABX9TyMHpZJYX68HGT3XauRfGxqS",
      "include_colab_link": true
    },
    "kernelspec": {
      "name": "python3",
      "display_name": "Python 3"
    },
    "language_info": {
      "name": "python"
    }
  },
  "cells": [
    {
      "cell_type": "markdown",
      "metadata": {
        "id": "view-in-github",
        "colab_type": "text"
      },
      "source": [
        "<a href=\"https://colab.research.google.com/github/navpreet025/1.basics-of-python/blob/main/BASICS_OF_PYTHON.ipynb\" target=\"_parent\"><img src=\"https://colab.research.google.com/assets/colab-badge.svg\" alt=\"Open In Colab\"/></a>"
      ]
    },
    {
      "cell_type": "markdown",
      "source": [
        "Q1. L is a list defined as L= [11, 12, 13, 14].\n",
        "(i) WAP to add 50 and 60 to L.\n",
        "(ii) WAP to remove 11 and 13from L.\n",
        "(iii) WAP to sort L in ascending order.\n",
        "(iv) WAP to sort L in descending order.\n",
        "(v) WAP to search for 13 in L.\n",
        "(vi) WAP to count the number of elements present in L.\n",
        "(vii) WAP to sum all the elements in L.\n",
        "(viii) WAP to sum all ODD numbers in L.\n",
        "(ix) WAP to sum all EVEN numbers in L.\n",
        "(x) WAP to sum all PRIME numbers in L.\n",
        "(xi) WAP to clear all the elements in L.\n",
        "(xii) WAP to delete L."
      ],
      "metadata": {
        "id": "CxK0TQr0NnHU"
      }
    },
    {
      "cell_type": "code",
      "source": [
        "L = [11, 12, 13, 14]\n",
        "\n",
        "# (i) Add 50 and 60 to L\n",
        "L.extend([50, 60])\n",
        "print(\"After adding 50 and 60:\", L)\n",
        "\n",
        "# (ii) Remove 11 and 13 from L\n",
        "L.remove(11)\n",
        "L.remove(13)\n",
        "print(\"After removing 11 and 13:\", L)\n",
        "\n",
        "# (iii) Sort L in ascending order\n",
        "L.sort()\n",
        "print(\"Sorted in ascending order:\", L)\n",
        "\n",
        "# (iv) Sort L in descending order\n",
        "L.sort(reverse=True)\n",
        "print(\"Sorted in descending order:\", L)\n",
        "\n",
        "# (v) Search for 13 in L\n",
        "print(\"Is 13 in L?\", 13 in L)\n",
        "\n",
        "# (vi) Count number of elements\n",
        "print(\"Number of elements:\", len(L))\n",
        "\n",
        "# (vii) Sum all elements\n",
        "print(\"Sum of all elements:\", sum(L))\n",
        "\n",
        "# (viii) Sum all ODD numbers\n",
        "odd_sum = sum(x for x in L if x % 2 != 0)\n",
        "print(\"Sum of odd numbers:\", odd_sum)\n",
        "\n",
        "# (ix) Sum all EVEN numbers\n",
        "even_sum = sum(x for x in L if x % 2 == 0)\n",
        "print(\"Sum of even numbers:\", even_sum)\n",
        "\n",
        "# (x) Sum all PRIME numbers\n",
        "def is_prime(n):\n",
        "    if n <= 1:\n",
        "        return False\n",
        "    for i in range(2, int(n**0.5)+1):\n",
        "        if n % i == 0:\n",
        "            return False\n",
        "    return True\n",
        "\n",
        "prime_sum = sum(x for x in L if is_prime(x))\n",
        "print(\"Sum of prime numbers:\", prime_sum)\n",
        "\n",
        "# (xi) Clear all elements\n",
        "L.clear()\n",
        "print(\"After clearing:\", L)\n",
        "\n",
        "# (xii) Delete L\n",
        "del L\n",
        "# print(L)  # This will raise NameError as L is deleted"
      ],
      "metadata": {
        "colab": {
          "base_uri": "https://localhost:8080/"
        },
        "collapsed": true,
        "id": "PLt82328OTJ4",
        "outputId": "fad9a17b-a68f-472f-e263-56e827351870"
      },
      "execution_count": null,
      "outputs": [
        {
          "output_type": "stream",
          "name": "stdout",
          "text": [
            "After adding 50 and 60: [11, 12, 13, 14, 50, 60]\n",
            "After removing 11 and 13: [12, 14, 50, 60]\n",
            "Sorted in ascending order: [12, 14, 50, 60]\n",
            "Sorted in descending order: [60, 50, 14, 12]\n",
            "Is 13 in L? False\n",
            "Number of elements: 4\n",
            "Sum of all elements: 136\n",
            "Sum of odd numbers: 0\n",
            "Sum of even numbers: 136\n",
            "Sum of prime numbers: 0\n",
            "After clearing: []\n"
          ]
        }
      ]
    },
    {
      "cell_type": "markdown",
      "source": [
        "Q2. D is a dictionary defined as D= {1:5.6, 2:7.8, 3:6.6, 4:8.7, 5:7.7}.\n",
        "(i) WAP to add new entry in D; key=8 and value is 8.8\n",
        "(ii) WAP to remove key=2.\n",
        "(iii) WAP to check weather 6 key is present in D.\n",
        "(iv) WAP to count the number of elements present in D.\n",
        "(v) WAP to add all the values present D.\n",
        "(vi) WAP to update the value of 3 to 7.1.\n",
        "(vii) WAP to clear the dictionary."
      ],
      "metadata": {
        "id": "rdGKODotOdJB"
      }
    },
    {
      "cell_type": "code",
      "source": [
        "D = {1:5.6, 2:7.8, 3:6.6, 4:8.7, 5:7.7}\n",
        "\n",
        "# (i) Add new entry key=8, value=8.8\n",
        "D[8] = 8.8\n",
        "print(\"After adding 8:8.8:\", D)\n",
        "\n",
        "# (ii) Remove key=2\n",
        "del D[2]\n",
        "print(\"After removing key 2:\", D)\n",
        "\n",
        "# (iii) Check if key 6 is present\n",
        "print(\"Is key 6 present?\", 6 in D)\n",
        "\n",
        "# (iv) Count number of elements\n",
        "print(\"Number of elements:\", len(D))\n",
        "\n",
        "# (v) Sum all values\n",
        "print(\"Sum of all values:\", sum(D.values()))\n",
        "\n",
        "# (vi) Update value of key 3 to 7.1\n",
        "D[3] = 7.1\n",
        "print(\"After updating key 3:\", D)\n",
        "\n",
        "# (vii) Clear the dictionary\n",
        "D.clear()\n",
        "print(\"After clearing:\", D)"
      ],
      "metadata": {
        "colab": {
          "base_uri": "https://localhost:8080/"
        },
        "collapsed": true,
        "id": "9PRDhD34OscP",
        "outputId": "07710818-8046-495e-9def-7ee4ae8dc923"
      },
      "execution_count": null,
      "outputs": [
        {
          "output_type": "stream",
          "name": "stdout",
          "text": [
            "After adding 8:8.8: {1: 5.6, 2: 7.8, 3: 6.6, 4: 8.7, 5: 7.7, 8: 8.8}\n",
            "After removing key 2: {1: 5.6, 3: 6.6, 4: 8.7, 5: 7.7, 8: 8.8}\n",
            "Is key 6 present? False\n",
            "Number of elements: 5\n",
            "Sum of all values: 37.4\n",
            "After updating key 3: {1: 5.6, 3: 7.1, 4: 8.7, 5: 7.7, 8: 8.8}\n",
            "After clearing: {}\n"
          ]
        }
      ]
    },
    {
      "cell_type": "markdown",
      "source": [
        "Q3. S1 is a set defined as S1= [10, 20, 30, 40, 50, 60].\n",
        " S2 is a set defined as S2= [40, 50, 60, 70, 80, 90].\n",
        "(i) WAP to add 55 and 66 in Set S1.\n",
        "(ii) WAP to remove 10 and 30 from Set S1.\n",
        "(iii) WAP to check whether 40 is present in S1.\n",
        "(iv) WAP to find the union between S1 and S2.\n",
        "(v) WAP to find the intersection between S1 and S2.\n",
        "(vi) WAP to find the S1 - S2"
      ],
      "metadata": {
        "id": "CcK95-L7O3dM"
      }
    },
    {
      "cell_type": "code",
      "source": [
        "S1 = {10, 20, 30, 40, 50, 60}\n",
        "S2 = {40, 50, 60, 70, 80, 90}\n",
        "\n",
        "# (i) Add 55 and 66 to S1\n",
        "S1.add(55)\n",
        "S1.add(66)\n",
        "print(\"After adding 55 and 66 to S1:\", S1)\n",
        "\n",
        "# (ii) Remove 10 and 30 from S1\n",
        "S1.discard(10)\n",
        "S1.discard(30)\n",
        "print(\"After removing 10 and 30 from S1:\", S1)\n",
        "\n",
        "# (iii) Check if 40 is present in S1\n",
        "print(\"Is 40 in S1?\", 40 in S1)\n",
        "\n",
        "# (iv) Union of S1 and S2\n",
        "print(\"Union of S1 and S2:\", S1.union(S2))\n",
        "\n",
        "# (v) Intersection of S1 and S2\n",
        "print(\"Intersection of S1 and S2:\", S1.intersection(S2))\n",
        "\n",
        "# (vi) S1 - S2\n",
        "print(\"S1 - S2:\", S1.difference(S2))"
      ],
      "metadata": {
        "collapsed": true,
        "colab": {
          "base_uri": "https://localhost:8080/"
        },
        "id": "4L-kZB9GPE19",
        "outputId": "2d9104c9-4075-4415-b1b9-fa752d744f9d"
      },
      "execution_count": null,
      "outputs": [
        {
          "output_type": "stream",
          "name": "stdout",
          "text": [
            "After adding 55 and 66 to S1: {50, 66, 20, 55, 40, 10, 60, 30}\n",
            "After removing 10 and 30 from S1: {50, 66, 20, 55, 40, 60}\n",
            "Is 40 in S1? True\n",
            "Union of S1 and S2: {66, 70, 40, 80, 50, 20, 55, 90, 60}\n",
            "Intersection of S1 and S2: {40, 50, 60}\n",
            "S1 - S2: {66, 20, 55}\n"
          ]
        }
      ]
    },
    {
      "cell_type": "markdown",
      "source": [
        "Q4. Write the following program.\n",
        "(i) WAP to print 100 random strings whose length between 6 and 8.\n",
        "(ii) WAP to print all prime numbers between 600 and 800.\n",
        "(iii) WAP to print all numbers between 100 and 1000 that are divisible by 7 and 9"
      ],
      "metadata": {
        "id": "gN_OXavuPNlj"
      }
    },
    {
      "cell_type": "code",
      "source": [
        "import random\n",
        "import string\n",
        "\n",
        "# (i) Print 100 random strings (length 6-8)\n",
        "def random_string():\n",
        "    length = random.randint(6, 8)\n",
        "    return ''.join(random.choice(string.ascii_letters) for _ in range(length))\n",
        "\n",
        "print(\"100 random strings:\")\n",
        "for _ in range(100):\n",
        "    print(random_string())\n",
        "\n",
        "# (ii) Print all prime numbers between 600 and 800\n",
        "def is_prime(n):\n",
        "    if n <= 1:\n",
        "        return False\n",
        "    for i in range(2, int(n**0.5)+1):\n",
        "        if n % i == 0:\n",
        "            return False\n",
        "    return True\n",
        "\n",
        "print(\"\\nPrime numbers between 600 and 800:\")\n",
        "for num in range(600, 801):\n",
        "    if is_prime(num):\n",
        "        print(num, end=\" \")\n",
        "\n",
        "# (iii) Print numbers between 100 and 1000 divisible by 7 and 9\n",
        "print(\"\\n\\nNumbers between 100 and 1000 divisible by 7 and 9:\")\n",
        "for num in range(100, 1001):\n",
        "    if num % 7 == 0 and num % 9 == 0:\n",
        "        print(num, end=\" \")"
      ],
      "metadata": {
        "colab": {
          "base_uri": "https://localhost:8080/"
        },
        "id": "6TdzcZL-PW1H",
        "outputId": "9950b0f3-4eaf-4f1c-f226-9cc98187a6d2"
      },
      "execution_count": null,
      "outputs": [
        {
          "output_type": "stream",
          "name": "stdout",
          "text": [
            "100 random strings:\n",
            "CCBwgC\n",
            "VDbTfqs\n",
            "VMnztIqb\n",
            "KlUBSuzj\n",
            "iZMsOYjC\n",
            "jVpwWMrC\n",
            "HNOWuQJ\n",
            "YywEfdTN\n",
            "jJfiIHUl\n",
            "nSlTpu\n",
            "zZgyNdZV\n",
            "VOQEIvX\n",
            "ijXcUVb\n",
            "dyBbAbAW\n",
            "oViOqyeQ\n",
            "NgNJrVV\n",
            "MIUdWl\n",
            "OyHuFM\n",
            "iBjrgn\n",
            "gFKTDYYW\n",
            "PETpLXI\n",
            "cTnVnxoP\n",
            "lsdDMx\n",
            "ztlwEM\n",
            "LTAHSU\n",
            "ArVcnZB\n",
            "AGGyNk\n",
            "szeoMT\n",
            "VcKRZGim\n",
            "ABbbbT\n",
            "OYcDtHGC\n",
            "LDTSoCM\n",
            "oZJwwn\n",
            "zUmgpJA\n",
            "xphYMS\n",
            "ekbhTeGM\n",
            "gxyTgcNS\n",
            "pjHLHe\n",
            "SlLkiXBN\n",
            "ZODUiLVm\n",
            "FEtSDE\n",
            "eMtEOkT\n",
            "tJCjeyWW\n",
            "tKohfgBP\n",
            "RMhwZO\n",
            "htONERyo\n",
            "iWxsHn\n",
            "ebJAac\n",
            "RNVSZc\n",
            "heFdVfP\n",
            "QmSuzoV\n",
            "DxkOyFC\n",
            "QsqPHaI\n",
            "EHtmrK\n",
            "FmoTXDx\n",
            "NOcfrC\n",
            "fNEDKHIL\n",
            "IinqnnV\n",
            "ddCCAkZJ\n",
            "GPdiosC\n",
            "xIqgACsT\n",
            "kEMpWH\n",
            "SxcIuSN\n",
            "BcqgedZU\n",
            "JaIBUR\n",
            "ixqoTA\n",
            "oVJWcz\n",
            "Naflswe\n",
            "oCSPlj\n",
            "vuIicJeF\n",
            "UKTNVOe\n",
            "lrMKSF\n",
            "AmddCj\n",
            "nEVNgX\n",
            "sTqWAT\n",
            "tusYDd\n",
            "dRXPKf\n",
            "ttrSCvh\n",
            "cHLVOzYr\n",
            "OaOoDR\n",
            "fAaSvrm\n",
            "PDEzJE\n",
            "tNxtOD\n",
            "IagXfBvX\n",
            "TGFGeCf\n",
            "nmwOJX\n",
            "gvzAAl\n",
            "BfzhvV\n",
            "azNlwMp\n",
            "nbmRRIAK\n",
            "jRmqfZrj\n",
            "MoisQeRX\n",
            "zriNErtS\n",
            "HWRXacn\n",
            "HjcXIO\n",
            "GtXOsvrf\n",
            "cMhGBy\n",
            "YmOult\n",
            "cAFunKcd\n",
            "yGZRsn\n",
            "\n",
            "Prime numbers between 600 and 800:\n",
            "601 607 613 617 619 631 641 643 647 653 659 661 673 677 683 691 701 709 719 727 733 739 743 751 757 761 769 773 787 797 \n",
            "\n",
            "Numbers between 100 and 1000 divisible by 7 and 9:\n",
            "126 189 252 315 378 441 504 567 630 693 756 819 882 945 "
          ]
        }
      ]
    },
    {
      "cell_type": "markdown",
      "source": [
        "Q5. WAP to create two lists of 10 random numbers between 10 and 30; Find\n",
        "(i) Common numbers in the two lists\n",
        "(ii) Unique numbers in both the list\n",
        "(iii) Minimum in both the list\n",
        "(iv) Maximum in both the list\n",
        "(v) Sum of both the lists"
      ],
      "metadata": {
        "id": "VQNdPCB4PjYt"
      }
    },
    {
      "cell_type": "code",
      "source": [
        "import random\n",
        "\n",
        "# Create two lists of 10 random numbers between 10 and 30\n",
        "list1 = [random.randint(10, 30) for _ in range(10)]\n",
        "list2 = [random.randint(10, 30) for _ in range(10)]\n",
        "\n",
        "print(\"List 1:\", list1)\n",
        "print(\"List 2:\", list2)\n",
        "\n",
        "# (i) Common numbers\n",
        "common = set(list1) & set(list2)\n",
        "print(\"\\nCommon numbers:\", common)\n",
        "\n",
        "# (ii) Unique numbers in both lists\n",
        "unique = set(list1) ^ set(list2)\n",
        "print(\"Unique numbers in both lists:\", unique)\n",
        "\n",
        "# (iii) Minimum in both lists\n",
        "print(\"Min in list1:\", min(list1), \"Min in list2:\", min(list2))\n",
        "\n",
        "# (iv) Maximum in both lists\n",
        "print(\"Max in list1:\", max(list1), \"Max in list2:\", max(list2))\n",
        "\n",
        "# (v) Sum of both lists\n",
        "print(\"Sum of list1:\", sum(list1), \"Sum of list2:\", sum(list2))"
      ],
      "metadata": {
        "colab": {
          "base_uri": "https://localhost:8080/"
        },
        "collapsed": true,
        "id": "ntULb_pfPukk",
        "outputId": "e07a0f5c-7d13-498e-b832-60d1bef297f3"
      },
      "execution_count": null,
      "outputs": [
        {
          "output_type": "stream",
          "name": "stdout",
          "text": [
            "List 1: [28, 26, 23, 24, 19, 24, 19, 14, 23, 11]\n",
            "List 2: [12, 18, 22, 13, 22, 21, 10, 28, 14, 15]\n",
            "\n",
            "Common numbers: {28, 14}\n",
            "Unique numbers in both lists: {10, 11, 12, 13, 15, 18, 19, 21, 22, 23, 24, 26}\n",
            "Min in list1: 11 Min in list2: 10\n",
            "Max in list1: 28 Max in list2: 28\n",
            "Sum of list1: 211 Sum of list2: 175\n"
          ]
        }
      ]
    },
    {
      "cell_type": "markdown",
      "source": [
        "Q6. WAP to create a list of 100 random numbers between 100 and 900. Count and print the:\n",
        "(i) All odd numbers\n",
        "(ii) All even numbers\n",
        "(iii) All prime numbers"
      ],
      "metadata": {
        "id": "uEfM5Lm_P1Rm"
      }
    },
    {
      "cell_type": "code",
      "source": [
        "import random\n",
        "\n",
        "# Create list of 100 random numbers between 100 and 900\n",
        "numbers = [random.randint(100, 900) for _ in range(100)]\n",
        "\n",
        "# (i) All odd numbers\n",
        "odd_numbers = [x for x in numbers if x % 2 != 0]\n",
        "print(\"Odd numbers:\", odd_numbers)\n",
        "print(\"Count of odd numbers:\", len(odd_numbers))\n",
        "\n",
        "# (ii) All even numbers\n",
        "even_numbers = [x for x in numbers if x % 2 == 0]\n",
        "print(\"\\nEven numbers:\", even_numbers)\n",
        "print(\"Count of even numbers:\", len(even_numbers))\n",
        "\n",
        "# (iii) All prime numbers\n",
        "def is_prime(n):\n",
        "    if n <= 1:\n",
        "        return False\n",
        "    for i in range(2, int(n**0.5)+1):\n",
        "        if n % i == 0:\n",
        "            return False\n",
        "    return True\n",
        "\n",
        "prime_numbers = [x for x in numbers if is_prime(x)]\n",
        "print(\"\\nPrime numbers:\", prime_numbers)\n",
        "print(\"Count of prime numbers:\", len(prime_numbers))"
      ],
      "metadata": {
        "colab": {
          "base_uri": "https://localhost:8080/"
        },
        "collapsed": true,
        "id": "ZOo_sYqxQCiM",
        "outputId": "64540076-d82e-42be-92a4-4499655a0678"
      },
      "execution_count": null,
      "outputs": [
        {
          "output_type": "stream",
          "name": "stdout",
          "text": [
            "Odd numbers: [693, 891, 875, 481, 435, 459, 705, 445, 467, 571, 807, 557, 777, 535, 721, 855, 623, 759, 721, 687, 523, 605, 445, 829, 707, 133, 517, 631, 597, 273, 459, 163, 567, 523, 305, 747, 133, 589, 631, 687, 811, 521, 881, 691, 823]\n",
            "Count of odd numbers: 45\n",
            "\n",
            "Even numbers: [476, 270, 720, 620, 214, 422, 332, 458, 128, 252, 174, 634, 704, 396, 794, 368, 512, 486, 206, 438, 320, 708, 200, 546, 662, 778, 744, 892, 356, 466, 184, 468, 468, 216, 310, 872, 140, 306, 242, 670, 352, 438, 548, 634, 274, 614, 594, 898, 558, 710, 104, 608, 518, 396, 586]\n",
            "Count of even numbers: 55\n",
            "\n",
            "Prime numbers: [467, 571, 557, 523, 829, 631, 163, 523, 631, 811, 521, 881, 691, 823]\n",
            "Count of prime numbers: 14\n"
          ]
        }
      ]
    },
    {
      "cell_type": "markdown",
      "source": [
        "Q7. D is a dictionary defined as D={1:\"One\",2:\"Two\",3:\"Three\",4:\"Four\", 5:\"Five\"}.\n",
        " WAP to read all the keys and values from dictionary and write to the file in the given below format.\n",
        "Key1, Value1\n",
        "Key2, Value2\n",
        "Key3, Value3"
      ],
      "metadata": {
        "id": "8LHGdTIFQIxq"
      }
    },
    {
      "cell_type": "code",
      "source": [
        "D = {1:\"One\", 2:\"Two\", 3:\"Three\", 4:\"Four\", 5:\"Five\"}\n",
        "\n",
        "with open(\"dictionary_output.txt\", \"w\") as file:\n",
        "    for key, value in D.items():\n",
        "        file.write(f\"{key}, {value}\\n\")\n",
        "\n",
        "print(\"Dictionary written to file successfully.\")"
      ],
      "metadata": {
        "colab": {
          "base_uri": "https://localhost:8080/"
        },
        "collapsed": true,
        "id": "QbTdkgztRSpN",
        "outputId": "b7b5a240-4d77-4cbc-83cf-a2b7fdc22e3f"
      },
      "execution_count": null,
      "outputs": [
        {
          "output_type": "stream",
          "name": "stdout",
          "text": [
            "Dictionary written to file successfully.\n"
          ]
        }
      ]
    },
    {
      "cell_type": "markdown",
      "source": [
        "Q8. L is a list defined as L={\"One\",\"Two\",\"Three\",\"Four\",\"Five\"}.\n",
        " WAP to count the length of reach element from a list and write to the file in the given below format:\n",
        "One, 3\n",
        "Two, 3\n",
        "Four, 4"
      ],
      "metadata": {
        "id": "hkBeh_4CRZqp"
      }
    },
    {
      "cell_type": "code",
      "source": [
        "L = [\"One\", \"Two\", \"Three\", \"Four\", \"Five\"]\n",
        "\n",
        "with open(\"list_lengths.txt\", \"w\") as file:\n",
        "    for item in L:\n",
        "        file.write(f\"{item}, {len(item)}\\n\")\n",
        "\n",
        "print(\"List element lengths written to file successfully.\")"
      ],
      "metadata": {
        "colab": {
          "base_uri": "https://localhost:8080/"
        },
        "collapsed": true,
        "id": "5-jdr6hMRlWv",
        "outputId": "6188230a-734e-4953-c5eb-e2f896b2fb43"
      },
      "execution_count": null,
      "outputs": [
        {
          "output_type": "stream",
          "name": "stdout",
          "text": [
            "List element lengths written to file successfully.\n"
          ]
        }
      ]
    },
    {
      "cell_type": "markdown",
      "source": [
        "Q9. Write to the file 100 random strings whose length between 10 and 15."
      ],
      "metadata": {
        "id": "oCXMYVZdR39s"
      }
    },
    {
      "cell_type": "code",
      "source": [
        "import random\n",
        "import string\n",
        "\n",
        "def random_string():\n",
        "    length = random.randint(10, 15)\n",
        "    return ''.join(random.choice(string.ascii_letters) for _ in range(length))\n",
        "\n",
        "with open(\"random_strings.txt\", \"w\") as file:\n",
        "    for _ in range(100):\n",
        "        file.write(random_string() + \"\\n\")\n",
        "\n",
        "print(\"100 random strings written to file successfully.\")"
      ],
      "metadata": {
        "colab": {
          "base_uri": "https://localhost:8080/"
        },
        "collapsed": true,
        "id": "C188i_ioSSOB",
        "outputId": "c173909c-e7d7-40c2-e9cd-36dcb4ead7fa"
      },
      "execution_count": null,
      "outputs": [
        {
          "output_type": "stream",
          "name": "stdout",
          "text": [
            "100 random strings written to file successfully.\n"
          ]
        }
      ]
    },
    {
      "cell_type": "markdown",
      "source": [
        "Q10. Write to the file all prime numbers between 600 and 800."
      ],
      "metadata": {
        "id": "UkbH-qK4SZJD"
      }
    },
    {
      "cell_type": "code",
      "source": [
        "def is_prime(n):\n",
        "    if n <= 1:\n",
        "        return False\n",
        "    for i in range(2, int(n**0.5)+1):\n",
        "        if n % i == 0:\n",
        "            return False\n",
        "    return True\n",
        "\n",
        "with open(\"primes_600_800.txt\", \"w\") as file:\n",
        "    for num in range(600, 801):\n",
        "        if is_prime(num):\n",
        "            file.write(f\"{num}\\n\")\n",
        "\n",
        "print(\"Prime numbers between 600 and 800 written to file successfully.\")"
      ],
      "metadata": {
        "collapsed": true,
        "colab": {
          "base_uri": "https://localhost:8080/"
        },
        "id": "FepF6olwSl65",
        "outputId": "27109506-0768-4b08-89d7-3bc4ce5b2366"
      },
      "execution_count": null,
      "outputs": [
        {
          "output_type": "stream",
          "name": "stdout",
          "text": [
            "Prime numbers between 600 and 800 written to file successfully.\n"
          ]
        }
      ]
    },
    {
      "cell_type": "markdown",
      "source": [
        "Q11. WAP to calculate the time taken by a program."
      ],
      "metadata": {
        "id": "n3IwLWnvTEMI"
      }
    },
    {
      "cell_type": "code",
      "source": [
        "import time\n",
        "\n",
        "start_time = time.time()\n",
        "\n",
        "# Your program code here\n",
        "# For example:\n",
        "total = 0\n",
        "for i in range(1, 1000001):\n",
        "    total += i\n",
        "\n",
        "end_time = time.time()\n",
        "execution_time = end_time - start_time\n",
        "\n",
        "print(f\"Program executed in {execution_time:.4f} seconds\")"
      ],
      "metadata": {
        "colab": {
          "base_uri": "https://localhost:8080/"
        },
        "collapsed": true,
        "id": "GUg8_Yb4TRgh",
        "outputId": "5d819ba1-448f-42d4-84c0-05afb715922a"
      },
      "execution_count": null,
      "outputs": [
        {
          "output_type": "stream",
          "name": "stdout",
          "text": [
            "Program executed in 0.1306 seconds\n"
          ]
        }
      ]
    },
    {
      "cell_type": "markdown",
      "source": [
        "Q12. WAP to sort following number of elements in a list, calculate time taken and plot the graph.\n",
        "Number of elements in list Time Taken\n",
        "5k T1\n",
        "10k T2\n",
        "15k T3\n",
        "20k T4\n",
        "25k T5"
      ],
      "metadata": {
        "id": "mZQM2GkITZ0w"
      }
    },
    {
      "cell_type": "code",
      "source": [
        "import time\n",
        "import random\n",
        "import matplotlib.pyplot as plt\n",
        "\n",
        "sizes = [5000, 10000, 15000, 20000, 25000]\n",
        "times = []\n",
        "\n",
        "for size in sizes:\n",
        "    data = [random.randint(1, 100000) for _ in range(size)]\n",
        "\n",
        "    start_time = time.time()\n",
        "    data.sort()\n",
        "    end_time = time.time()\n",
        "\n",
        "    elapsed = end_time - start_time\n",
        "    times.append(elapsed)\n",
        "    print(f\"Sorted {size} elements in {elapsed:.4f} seconds\")\n",
        "\n",
        "# Plotting the graph\n",
        "plt.plot(sizes, times, marker='o')\n",
        "plt.title('Sorting Time Analysis')\n",
        "plt.xlabel('Number of Elements')\n",
        "plt.ylabel('Time Taken (seconds)')\n",
        "plt.grid(True)\n",
        "plt.show()"
      ],
      "metadata": {
        "colab": {
          "base_uri": "https://localhost:8080/",
          "height": 559
        },
        "collapsed": true,
        "id": "jLMhfm74Te2G",
        "outputId": "b8970cdc-8736-4a3f-b8ba-72f8f3fe3831"
      },
      "execution_count": null,
      "outputs": [
        {
          "output_type": "stream",
          "name": "stdout",
          "text": [
            "Sorted 5000 elements in 0.0011 seconds\n",
            "Sorted 10000 elements in 0.0017 seconds\n",
            "Sorted 15000 elements in 0.0031 seconds\n",
            "Sorted 20000 elements in 0.0051 seconds\n",
            "Sorted 25000 elements in 0.0053 seconds\n"
          ]
        },
        {
          "output_type": "display_data",
          "data": {
            "text/plain": [
              "<Figure size 640x480 with 1 Axes>"
            ],
            "image/png": "[encoded data removed]"
          },
          "metadata": {}
        }
      ]
    },
    {
      "cell_type": "markdown",
      "source": [
        "Q13. WAP to create a dictionary of student marks in five subjects and you have to find the student\n",
        " having maximum and minimum average marks."
      ],
      "metadata": {
        "id": "_LD58Is1TlJG"
      }
    },
    {
      "cell_type": "code",
      "source": [
        "students = {\n",
        "    \"Alice\": [85, 90, 78, 92, 88],\n",
        "    \"Bob\": [76, 82, 79, 81, 84],\n",
        "    \"Charlie\": [92, 95, 88, 90, 94],\n",
        "    \"Diana\": [78, 82, 80, 85, 79],\n",
        "    \"Eve\": [88, 92, 85, 90, 87]\n",
        "}\n",
        "\n",
        "# Calculate averages\n",
        "averages = {name: sum(marks)/len(marks) for name, marks in students.items()}\n",
        "\n",
        "# Find max and min averages\n",
        "max_student = max(averages.items(), key=lambda x: x[1])\n",
        "min_student = min(averages.items(), key=lambda x: x[1])\n",
        "\n",
        "print(f\"Student with maximum average: {max_student[0]} ({max_student[1]:.2f})\")\n",
        "print(f\"Student with minimum average: {min_student[0]} ({min_student[1]:.2f})\")"
      ],
      "metadata": {
        "colab": {
          "base_uri": "https://localhost:8080/"
        },
        "collapsed": true,
        "id": "mn0rVbqmTs9j",
        "outputId": "97675699-91bd-4026-e6d5-92ef7dd44eb6"
      },
      "execution_count": null,
      "outputs": [
        {
          "output_type": "stream",
          "name": "stdout",
          "text": [
            "Student with maximum average: Charlie (91.80)\n",
            "Student with minimum average: Bob (80.40)\n"
          ]
        }
      ]
    }
  ]
}